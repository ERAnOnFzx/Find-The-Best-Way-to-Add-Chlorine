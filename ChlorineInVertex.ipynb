{
 "cells": [
  {
   "cell_type": "code",
   "execution_count": 7,
   "id": "a2949f06",
   "metadata": {},
   "outputs": [],
   "source": [
    "import numpy as np\n",
    "from deap import base, creator, tools\n",
    "import matplotlib\n",
    "from epyt import epanet\n",
    "from matplotlib.pyplot import plot\n",
    "import random"
   ]
  },
  {
   "cell_type": "code",
   "execution_count": 118,
   "id": "e2f25f16",
   "metadata": {},
   "outputs": [],
   "source": [
    "p_c = 0.7\n",
    "p_m = 0.1\n",
    "dimension = 2\n",
    "GroupAmount = 100\n",
    "Encode_length = 14\n",
    "FUNC_MIN=0.01"
   ]
  },
  {
   "cell_type": "code",
   "execution_count": 10,
   "id": "2a794689",
   "metadata": {},
   "outputs": [],
   "source": [
    "class Gen:\n",
    "    def __init__(self):\n",
    "        self.gen=np.zeros(Encode_length * dimension,dtype=bool)\n",
    "        self.Eval=0"
   ]
  },
  {
   "cell_type": "code",
   "execution_count": 63,
   "id": "0f03215a",
   "metadata": {},
   "outputs": [],
   "source": [
    "group = []\n",
    "temp = []\n",
    "p = []\n",
    "N=0\n",
    "temp_group=[]   \n",
    "for i in range(groupAmount):\n",
    "    group.append(Gen())\n",
    "    temp.append(Gen())\n",
    "    p.append(0)\n",
    "    temp_group.append(Gen())"
   ]
  },
  {
   "cell_type": "code",
   "execution_count": 12,
   "id": "e2085318",
   "metadata": {},
   "outputs": [],
   "source": [
    "def cmp(a, b):\n",
    "    return a.Eval>b.Eval"
   ]
  },
  {
   "cell_type": "code",
   "execution_count": 87,
   "id": "8c06683a",
   "metadata": {},
   "outputs": [],
   "source": [
    "def decode(g, i):\n",
    "    k = 1\n",
    "    x = 0\n",
    "    j = 0 + Encode_length * (i + 1) - 1\n",
    "    while j >= i * Encode_length:\n",
    "        if g.gen[j]:\n",
    "            x += k\n",
    "        k *= 2\n",
    "        j -= 1\n",
    "    return x * 100.0 / 16383"
   ]
  },
  {
   "cell_type": "code",
   "execution_count": 88,
   "id": "796c0b6c",
   "metadata": {},
   "outputs": [],
   "source": [
    "def init(g):\n",
    "    j = 0\n",
    "    while j < dimension:\n",
    "        x = random.randint(0,10000)\n",
    "        i = Encode_length * (j + 1) - 1\n",
    "        while i >= j * Encode_length:\n",
    "            g.gen[i] = x % 2\n",
    "            x = x // 2\n",
    "            i -= 1\n",
    "        j += 1"
   ]
  },
  {
   "cell_type": "code",
   "execution_count": 18,
   "id": "8d95869e",
   "metadata": {},
   "outputs": [],
   "source": [
    "def eval_func(g):\n",
    "    return 0"
   ]
  },
  {
   "cell_type": "code",
   "execution_count": 19,
   "id": "c61aaf54",
   "metadata": {},
   "outputs": [],
   "source": [
    "def calculate_for_group():\n",
    "    F = 0\n",
    "    i = 0\n",
    "    while i < GroupAmount:\n",
    "        group[i].Eval = 1/(eval_func(group[i])+0.001)\n",
    "        F += group[i].Eval\n",
    "        i += 1\n",
    "    \n",
    "    p[0] = group[0].Eval / F\n",
    "    i = 1\n",
    "    while i < GroupAmount:\n",
    "        p[i] = group[i].Eval / F + p[i-1]\n",
    "        i += 1"
   ]
  },
  {
   "cell_type": "code",
   "execution_count": 56,
   "id": "b7a2c29d",
   "metadata": {},
   "outputs": [],
   "source": [
    "def roulette_wheel():\n",
    "    x = random.randint(0,10000)/10000.0\n",
    "    left = 0\n",
    "    right = GroupAmount - 1\n",
    "    mid = (left+right) // 2 + 1\n",
    "    if x <= p[0]:\n",
    "        return 0\n",
    "    elif x >= p[right-1]:\n",
    "        return right\n",
    "    while x > p[mid] or x <=p[mid-1]:\n",
    "        if x == p[mid-1]:\n",
    "            return left\n",
    "        elif x > p[mid]:\n",
    "            left = mid\n",
    "            mid = (left + right)//2\n",
    "        else:\n",
    "            right = mid\n",
    "            mid = (left + right)//2\n",
    "    return mid - 1"
   ]
  },
  {
   "cell_type": "code",
   "execution_count": 22,
   "id": "1b83dc38",
   "metadata": {},
   "outputs": [],
   "source": [
    "def pick_for_temp():\n",
    "    for i in range(GroupAmount):\n",
    "        temp[i] = group[roulette_wheel()]"
   ]
  },
  {
   "cell_type": "code",
   "execution_count": 23,
   "id": "458925a2",
   "metadata": {},
   "outputs": [],
   "source": [
    "def single_point_crossover(index1, index2):\n",
    "    x = random.randint(0,dimension * Encode_length)\n",
    "    p_x = random.randint(0,999) / 1000.0\n",
    "    if p_x < p_c:\n",
    "        for i in range(dimension * Encode_length - x):\n",
    "            t = temp[index1].gen[i+x]\n",
    "            temp[index1].gen[i+x] = temp[index2].gen[i+x]\n",
    "            temp[index2].gen[i+x] = t"
   ]
  },
  {
   "cell_type": "code",
   "execution_count": 58,
   "id": "99d0faf4",
   "metadata": {},
   "outputs": [],
   "source": [
    "def breed():\n",
    "    for i in range(groupAmount//2):\n",
    "        single_point_crossover(i*2,i*2+1)"
   ]
  },
  {
   "cell_type": "code",
   "execution_count": 60,
   "id": "c79eb2fa",
   "metadata": {},
   "outputs": [],
   "source": [
    "def single_point_mutation():\n",
    "    P_M = int((p_m+0.0001) * 1000)\n",
    "    for i in range(GroupAmount):\n",
    "        for j in range(dimension * Encode_length):\n",
    "            x = random.randint(0,999)\n",
    "            if x < P_M:\n",
    "                temp[i].gen[j] = !temp[i].gen[j]"
   ]
  },
  {
   "cell_type": "code",
   "execution_count": 27,
   "id": "2eea8bff",
   "metadata": {},
   "outputs": [],
   "source": [
    "def calculate_for_temp():\n",
    "    for i in range(GroupAmount):\n",
    "        temp[i].Eval = 1/(eval_func(temp[i])+0.001)"
   ]
  },
  {
   "cell_type": "code",
   "execution_count": 67,
   "id": "75ecd2ca",
   "metadata": {},
   "outputs": [],
   "source": [
    "def pick_for_group():\n",
    "    group1 = sorted(group,key=lambda x:x.Eval)\n",
    "    temp1 = sorted(temp,key=lambda x:x.Eval)\n",
    "    i = 0\n",
    "    j = 0\n",
    "    for k in range(GroupAmount):\n",
    "        if cmp(group[i],temp[j]):\n",
    "            temp_group[k] = group1[i]\n",
    "            i += 1\n",
    "        else:\n",
    "            temp_group[k] = temp1[j]\n",
    "            j += 1\n",
    "    for i in range(GroupAmount):\n",
    "        group[i] = temp_group[i]"
   ]
  },
  {
   "cell_type": "code",
   "execution_count": 133,
   "id": "68e757c3",
   "metadata": {},
   "outputs": [],
   "source": [
    "def Continue(N):\n",
    "    if N>=1000:\n",
    "        return False\n",
    "    elif eval_func(group[0]) <= FUNC_MIN:\n",
    "        return False\n",
    "    else:\n",
    "        return True"
   ]
  },
  {
   "cell_type": "code",
   "execution_count": 35,
   "id": "1bc456bd",
   "metadata": {
    "collapsed": true,
    "jupyter": {
     "outputs_hidden": true
    }
   },
   "outputs": [
    {
     "name": "stdout",
     "output_type": "stream",
     "text": [
      "EPANET version 20200 loaded (EPyT version 1.0.6).\n",
      "Input File epanet_1_example.inp loaded successfully.\n",
      "\n",
      "['BinTempfile', 'CMDCODE', 'ControlLevelValues', 'ControlLinkIndex', 'ControlNodeIndex', 'ControlRulesCount', 'ControlSettings', 'ControlTypes', 'ControlTypesIndex', 'Controls', 'CurveCount', 'CurveIndex', 'CurvesInfo', 'DEMANDMODEL', 'InputFile', 'Iterations', 'LOGOP', 'LibEPANET', 'LibEPANETpath', 'LinkBulkReactionCoeff', 'LinkCount', 'LinkDiameter', 'LinkFlowUnits', 'LinkIndex', 'LinkInitialSetting', 'LinkInitialStatus', 'LinkLength', 'LinkMinorLossCoeff', 'LinkNameID', 'LinkPipeCount', 'LinkPipeIndex', 'LinkPipeNameID', 'LinkPumpCount', 'LinkPumpHeadCurveIndex', 'LinkPumpIndex', 'LinkPumpNameID', 'LinkPumpPatternIndex', 'LinkPumpPatternNameID', 'LinkPumpPower', 'LinkPumpType', 'LinkPumpTypeCode', 'LinkRoughnessCoeff', 'LinkType', 'LinkTypeIndex', 'LinkValveCount', 'LinkValveIndex', 'LinkValveNameID', 'LinkWallReactionCoeff', 'NodeBaseDemands', 'NodeCoordinates', 'NodeCount', 'NodeDemandCategoriesNumber', 'NodeDemandPatternIndex', 'NodeDemandPatternNameID', 'NodeElevations', 'NodeEmitterCoeff', 'NodeIndex', 'NodeInitialQuality', 'NodeJunctionCount', 'NodeJunctionIndex', 'NodeJunctionNameID', 'NodeNameID', 'NodePatternIndex', 'NodeReservoirCount', 'NodeReservoirIndex', 'NodeReservoirNameID', 'NodeSourcePatternIndex', 'NodeSourceQuality', 'NodeSourceTypeIndex', 'NodeTankBulkReactionCoeff', 'NodeTankCount', 'NodeTankDiameter', 'NodeTankIndex', 'NodeTankInitialLevel', 'NodeTankInitialWaterVolume', 'NodeTankMaximumWaterLevel', 'NodeTankMaximumWaterVolume', 'NodeTankMinimumFraction', 'NodeTankMinimumWaterLevel', 'NodeTankMinimumWaterVolume', 'NodeTankMixZoneVolume', 'NodeTankMixingModelCode', 'NodeTankMixingModelType', 'NodeTankNameID', 'NodeTankReservoirCount', 'NodeTankVolumeCurveIndex', 'NodeType', 'NodeTypeIndex', 'NodesConnectingLinksID', 'NodesConnectingLinksIndex', 'OptionsAccuracyValue', 'OptionsEmitterExponent', 'OptionsFlowChange', 'OptionsHeadError', 'OptionsHeadLossFormula', 'OptionsHydraulics', 'OptionsMaxTrials', 'OptionsPattern', 'OptionsPatternDemandMultiplier', 'OptionsQualityTolerance', 'OptionsSpecificGravity', 'OptionsUnbalanced', 'OptionsViscosity', 'Pattern', 'PatternAverageValue', 'PatternCount', 'PatternIndex', 'PatternLengths', 'PatternNameID', 'QualityChemName', 'QualityChemUnits', 'QualityCode', 'QualityTraceNodeIndex', 'QualityType', 'RULEOBJECT', 'RULEOPERATOR', 'RULESTATUS', 'RULEVARIABLE', 'RelativeError', 'RptTempfile', 'TYPEBINSTATUS', 'TYPECONTROL', 'TYPECURVE', 'TYPEHEADLOSS', 'TYPELINK', 'TYPEMIXMODEL', 'TYPENODE', 'TYPEPUMP', 'TYPEPUMPSTATE', 'TYPEQUALITY', 'TYPEREPORT', 'TYPESOURCE', 'TYPESTATS', 'TYPESTATUS', 'TYPEUNITS', 'TempInpFile', 'TimeHTime', 'TimeHaltFlag', 'TimeHydraulicStep', 'TimeNextEvent', 'TimePatternStart', 'TimePatternStep', 'TimeQualityStep', 'TimeReportingPeriods', 'TimeReportingStart', 'TimeReportingStep', 'TimeRuleControlStep', 'TimeSimulationDuration', 'TimeStartTime', 'TimeStatisticsIndex', 'TimeStatisticsType', 'ToolkitConstants', 'Version', '__class__', '__delattr__', '__dict__', '__dir__', '__doc__', '__eq__', '__format__', '__ge__', '__getattribute__', '__gt__', '__hash__', '__init__', '__init_subclass__', '__le__', '__lt__', '__module__', '__ne__', '__new__', '__reduce__', '__reduce_ex__', '__repr__', '__setattr__', '__sizeof__', '__str__', '__subclasshook__', '__weakref__', '_epanet__addComment', '_epanet__addControlFunction', '_epanet__changeNodeType', '_epanet__checkLinkIfString', '_epanet__controlSettings', '_epanet__createTempfiles', '_epanet__exist_inp_file', '_epanet__getControlIndices', '_epanet__getCurveIndices', '_epanet__getInitParams', '_epanet__getLinkIndices', '_epanet__getLinkInfo', '_epanet__getNodeIndices', '_epanet__getNodeInfo', '_epanet__getNodeJunctionIndices', '_epanet__getNodeTankMixiningModel', '_epanet__getPumpLinkInfo', '_epanet__getTankNodeInfo', '_epanet__isMember', '_epanet__readEpanetBin', '_epanet__returnValue', '_epanet__setControlFunction', '_epanet__setEval', '_epanet__setEvalLinkNode', '_epanet__setFlowUnits', '_epanet__setNodeDemandPattern', 'addControls', 'addCurve', 'addLinkPipe', 'addLinkPipeCV', 'addLinkPump', 'addLinkValveFCV', 'addLinkValveGPV', 'addLinkValvePBV', 'addLinkValvePRV', 'addLinkValvePSV', 'addLinkValveTCV', 'addNodeJunction', 'addNodeJunctionDemand', 'addNodeReservoir', 'addNodeTank', 'addPattern', 'addRules', 'api', 'appRotateNetwork', 'appShiftNetwork', 'arange', 'classversion', 'clearReport', 'closeHydraulicAnalysis', 'closeNetwork', 'closeQualityAnalysis', 'copyReport', 'createProject', 'deleteAllTemps', 'deleteControls', 'deleteCurve', 'deleteLink', 'deleteNode', 'deleteNodeJunctionDemand', 'deletePattern', 'deletePatternsAll', 'deleteProject', 'deleteRules', 'demModelInfo', 'getAdjacencyMatrix', 'getCMDCODE', 'getComputedHydraulicTimeSeries', 'getComputedQualityTimeSeries', 'getComputedTimeSeries', 'getComputedTimeSeries_ENepanet', 'getConnectivityMatrix', 'getControlRulesCount', 'getControls', 'getCounts', 'getCurveComment', 'getCurveCount', 'getCurveIndex', 'getCurveLengths', 'getCurveNameID', 'getCurveType', 'getCurveTypeIndex', 'getCurveValue', 'getCurvesInfo', 'getDemandModel', 'getENfunctionsImpemented', 'getError', 'getFlowUnits', 'getLibFunctions', 'getLinkActualQuality', 'getLinkBulkReactionCoeff', 'getLinkComment', 'getLinkCount', 'getLinkDiameter', 'getLinkEnergy', 'getLinkFlows', 'getLinkHeadloss', 'getLinkIndex', 'getLinkInitialSetting', 'getLinkInitialStatus', 'getLinkLength', 'getLinkMinorLossCoeff', 'getLinkNameID', 'getLinkNodesIndex', 'getLinkPipeCount', 'getLinkPipeIndex', 'getLinkPipeNameID', 'getLinkPumpCount', 'getLinkPumpECost', 'getLinkPumpECurve', 'getLinkPumpEPat', 'getLinkPumpEfficiency', 'getLinkPumpHCurve', 'getLinkPumpHeadCurveIndex', 'getLinkPumpIndex', 'getLinkPumpNameID', 'getLinkPumpPatternIndex', 'getLinkPumpPatternNameID', 'getLinkPumpPower', 'getLinkPumpState', 'getLinkPumpSwitches', 'getLinkPumpType', 'getLinkPumpTypeCode', 'getLinkQuality', 'getLinkResultIndex', 'getLinkRoughnessCoeff', 'getLinkSettings', 'getLinkStatus', 'getLinkType', 'getLinkTypeIndex', 'getLinkValveCount', 'getLinkValveIndex', 'getLinkValveNameID', 'getLinkVelocity', 'getLinkVertices', 'getLinkVerticesCount', 'getLinkWallReactionCoeff', 'getLinksInfo', 'getNetworksDatabase', 'getNodeActualDemand', 'getNodeActualDemandSensingNodes', 'getNodeActualQuality', 'getNodeActualQualitySensingNodes', 'getNodeBaseDemands', 'getNodeComment', 'getNodeCoordinates', 'getNodeCount', 'getNodeDemandCategoriesNumber', 'getNodeDemandDeficit', 'getNodeDemandPatternIndex', 'getNodeDemandPatternNameID', 'getNodeElevations', 'getNodeEmitterCoeff', 'getNodeHydraulicHead', 'getNodeIndex', 'getNodeInitialQuality', 'getNodeJunctionCount', 'getNodeJunctionDemandIndex', 'getNodeJunctionDemandName', 'getNodeJunctionIndex', 'getNodeJunctionNameID', 'getNodeMassFlowRate', 'getNodeNameID', 'getNodePatternIndex', 'getNodePressure', 'getNodeReservoirCount', 'getNodeReservoirIndex', 'getNodeReservoirNameID', 'getNodeResultIndex', 'getNodeSourcePatternIndex', 'getNodeSourceQuality', 'getNodeSourceType', 'getNodeSourceTypeIndex', 'getNodeTankBulkReactionCoeff', 'getNodeTankCanOverFlow', 'getNodeTankCount', 'getNodeTankData', 'getNodeTankDiameter', 'getNodeTankIndex', 'getNodeTankInitialLevel', 'getNodeTankInitialWaterVolume', 'getNodeTankMaximumWaterLevel', 'getNodeTankMaximumWaterVolume', 'getNodeTankMinimumWaterLevel', 'getNodeTankMinimumWaterVolume', 'getNodeTankMixZoneVolume', 'getNodeTankMixingFraction', 'getNodeTankMixingModelCode', 'getNodeTankMixingModelType', 'getNodeTankNameID', 'getNodeTankReservoirCount', 'getNodeTankVolume', 'getNodeTankVolumeCurveIndex', 'getNodeType', 'getNodeTypeIndex', 'getNodesConnectingLinksID', 'getNodesConnectingLinksIndex', 'getNodesInfo', 'getOptionsAccuracyValue', 'getOptionsCheckFrequency', 'getOptionsDampLimit', 'getOptionsDemandCharge', 'getOptionsEmitterExponent', 'getOptionsExtraTrials', 'getOptionsFlowChange', 'getOptionsGlobalEffic', 'getOptionsGlobalPattern', 'getOptionsGlobalPrice', 'getOptionsHeadError', 'getOptionsHeadLossFormula', 'getOptionsLimitingConcentration', 'getOptionsMaxTrials', 'getOptionsMaximumCheck', 'getOptionsPatternDemandMultiplier', 'getOptionsPipeBulkReactionOrder', 'getOptionsPipeWallReactionOrder', 'getOptionsQualityTolerance', 'getOptionsSpecificDiffusivity', 'getOptionsSpecificGravity', 'getOptionsSpecificViscosity', 'getOptionsTankBulkReactionOrder', 'getPattern', 'getPatternAverageValue', 'getPatternComment', 'getPatternCount', 'getPatternIndex', 'getPatternLengths', 'getPatternNameID', 'getPatternValue', 'getQualityCode', 'getQualityInfo', 'getQualityTraceNodeIndex', 'getQualityType', 'getRuleCount', 'getRuleID', 'getRuleInfo', 'getRules', 'getStatistic', 'getTimeHTime', 'getTimeHaltFlag', 'getTimeHydraulicStep', 'getTimeNextEvent', 'getTimeNextEventTank', 'getTimePatternStart', 'getTimePatternStep', 'getTimeQTime', 'getTimeQualityStep', 'getTimeReportingPeriods', 'getTimeReportingStart', 'getTimeReportingStep', 'getTimeRuleControlStep', 'getTimeSimulationDuration', 'getTimeStartTime', 'getTimeStatisticsIndex', 'getTimeStatisticsType', 'getTitle', 'getUnits', 'getVersion', 'initializeEPANET', 'initializeHydraulicAnalysis', 'initializeQualityAnalysis', 'libFunctions', 'linkInfo', 'loadEPANETFile', 'max', 'min', 'multiply_elements', 'netName', 'nextHydraulicAnalysisStep', 'nextQualityAnalysisStep', 'nodeInfo', 'openAnyInp', 'openCurrentInp', 'openHydraulicAnalysis', 'openQualityAnalysis', 'plot', 'plot_close', 'plot_save', 'plot_show', 'plot_ts', 'printv', 'qual', 'reloadNetwork', 'runEPANETexe', 'runHydraulicAnalysis', 'runQualityAnalysis', 'runsCompleteSimulation', 'saveHydraulicFile', 'saveHydraulicsOutputReportingFile', 'saveInputFile', 'setCMDCODE', 'setControls', 'setCurve', 'setCurveComment', 'setCurveNameID', 'setCurveValue', 'setDemandModel', 'setFlowUnitsAFD', 'setFlowUnitsCFS', 'setFlowUnitsCMD', 'setFlowUnitsCMH', 'setFlowUnitsGPM', 'setFlowUnitsIMGD', 'setFlowUnitsLPM', 'setFlowUnitsLPS', 'setFlowUnitsMGD', 'setFlowUnitsMLD', 'setLinkBulkReactionCoeff', 'setLinkComment', 'setLinkDiameter', 'setLinkInitialSetting', 'setLinkInitialStatus', 'setLinkLength', 'setLinkMinorLossCoeff', 'setLinkNameID', 'setLinkNodesIndex', 'setLinkPipeData', 'setLinkPumpECost', 'setLinkPumpECurve', 'setLinkPumpEPat', 'setLinkPumpHCurve', 'setLinkPumpHeadCurveIndex', 'setLinkPumpPatternIndex', 'setLinkPumpPower', 'setLinkRoughnessCoeff', 'setLinkSettings', 'setLinkStatus', 'setLinkTypePipe', 'setLinkTypePipeCV', 'setLinkTypePump', 'setLinkTypeValveFCV', 'setLinkTypeValveGPV', 'setLinkTypeValvePBV', 'setLinkTypeValvePRV', 'setLinkTypeValvePSV', 'setLinkTypeValveTCV', 'setLinkVertices', 'setLinkWallReactionCoeff', 'setNodeBaseDemands', 'setNodeComment', 'setNodeCoordinates', 'setNodeDemandPatternIndex', 'setNodeElevations', 'setNodeEmitterCoeff', 'setNodeInitialQuality', 'setNodeJunctionData', 'setNodeJunctionDemandName', 'setNodeNameID', 'setNodeSourcePatternIndex', 'setNodeSourceQuality', 'setNodeSourceType', 'setNodeTankBulkReactionCoeff', 'setNodeTankCanOverFlow', 'setNodeTankData', 'setNodeTankDiameter', 'setNodeTankInitialLevel', 'setNodeTankMaximumWaterLevel', 'setNodeTankMinimumWaterLevel', 'setNodeTankMinimumWaterVolume', 'setNodeTankMixingFraction', 'setNodeTankMixingModelType', 'setNodeTypeJunction', 'setNodeTypeReservoir', 'setNodeTypeTank', 'setNodesConnectingLinksID', 'setOptionsAccuracyValue', 'setOptionsCheckFrequency', 'setOptionsDampLimit', 'setOptionsDemandCharge', 'setOptionsEmitterExponent', 'setOptionsExtraTrials', 'setOptionsFlowChange', 'setOptionsGlobalEffic', 'setOptionsGlobalPattern', 'setOptionsGlobalPrice', 'setOptionsHeadError', 'setOptionsHeadLossFormula', 'setOptionsLimitingConcentration', 'setOptionsMaxTrials', 'setOptionsMaximumCheck', 'setOptionsPatternDemandMultiplier', 'setOptionsPipeBulkReactionOrder', 'setOptionsPipeWallReactionOrder', 'setOptionsQualityTolerance', 'setOptionsSpecificDiffusivity', 'setOptionsSpecificGravity', 'setOptionsSpecificViscosity', 'setOptionsTankBulkReactionOrder', 'setPattern', 'setPatternComment', 'setPatternMatrix', 'setPatternNameID', 'setPatternValue', 'setQualityType', 'setReport', 'setReportFormatReset', 'setReportStatus', 'setRuleElseAction', 'setRulePremise', 'setRulePremiseObjectNameID', 'setRulePremiseStatus', 'setRulePremiseValue', 'setRulePriority', 'setRuleThenAction', 'setRules', 'setTimeHydraulicStep', 'setTimePatternStart', 'setTimePatternStep', 'setTimeQualityStep', 'setTimeReportingStart', 'setTimeReportingStep', 'setTimeRuleControlStep', 'setTimeSimulationDuration', 'setTimeStatisticsType', 'setTitle', 'solveCompleteHydraulics', 'solveCompleteQuality', 'splitPipe', 'stepQualityAnalysisTimeLeft', 'to_array', 'to_mat', 'units', 'unload', 'useHydraulicFile', 'writeLineInReportFile', 'writeReport']\n",
      "Help on method getNodeElevations in module epyt.epanet:\n",
      "\n",
      "getNodeElevations(*argv) method of epyt.epanet.epanet instance\n",
      "    Retrieves the value of all node elevations.\n",
      "    Example:\n",
      "    \n",
      "    >>> d.getNodeElevations()             # Retrieves the value of all node elevations\n",
      "    >>> d.getNodeElevations(1)            # Retrieves the value of the first node elevation\n",
      "    >>> d.getNodeElevations([4, 5, 6])    # Retrieves the value of the 5th to 7th node elevations\n",
      "    \n",
      "    See also setNodeElevations, getNodesInfo, getNodeNameID,\n",
      "    getNodeType, getNodeEmitterCoeff, getNodeInitialQuality.\n",
      "\n",
      "[400. 350. 300. 300.]\n",
      "[ 90.  88.  90.  85. 100.]\n",
      "[400. 350.]\n",
      "400.0\n",
      "Epoch=   [[8.29112209 8.15335299 3.54419582 7.34381016 0.        ]]\n",
      "Epoch=   [[104.23191823  82.79136975  61.46585162  40.41769645]]\n",
      "[130. 130.]\n",
      "[7.34381016]\n",
      "88.0\n"
     ]
    }
   ],
   "source": [
    "G=epanet('D:\\epanet_1_example.inp')\n",
    "\n",
    "# Plot network topology\n",
    "#G.plot()\n",
    "\n",
    "# Plot nodes IDs\n",
    "#G.plot(nodesID=True)\n",
    "\n",
    "# Plot links IDs\n",
    "#G.plot(linksID=True)\n",
    "\n",
    "# Plot node indices\n",
    "#G.plot(nodesindex=True)\n",
    "\n",
    "# Plot link indices\n",
    "#G.plot(linksindex=True)\n",
    "\n",
    "# Highlight specific links\n",
    "#d.plot(highlightlink='10')\n",
    "\n",
    "# Lists all available functions and properties\n",
    "print(dir(G))\n",
    "\n",
    "# Retrieve some examples for the function\n",
    "help(G.getNodeElevations)\n",
    "\n",
    "# Retrieve Link diameters\n",
    "diameters = G.getLinkDiameter()\n",
    "print(diameters)\n",
    "\n",
    "# Retrieve Node elevations\n",
    "elevations = G.getNodeElevations()\n",
    "print(elevations)\n",
    "\n",
    "# Link diameter for links 2 & 10\n",
    "diameters = G.getLinkDiameter([1, 2])\n",
    "print(diameters)\n",
    "\n",
    "\n",
    "\n",
    "# Update the link 10 diameter from 100 to 90\n",
    "G.setLinkDiameter(1, 400)\n",
    "# Retrieve the diameter of link 10\n",
    "n_diameter = G.getLinkDiameter(1)\n",
    "print(n_diameter)\n",
    "\n",
    "# Solve hydraulics in library\n",
    "# H = G.getComputedHydraulicTimeSeries()\n",
    "# Solve quality dynamics in library\n",
    "# Q = G.getComputedQualityTimeSeries()\n",
    "# Solve all dynamics in library, create a binary file to store the computed values\n",
    "\n",
    "pmcs = G.getComputedHydraulicTimeSeries().Pressure\n",
    "print(f\"Epoch=  \",pmcs )\n",
    "qmcs = G.getComputedHydraulicTimeSeries().Flow\n",
    "print(f\"Epoch=  \",qmcs )\n",
    "\n",
    "\n",
    "roughness0=G.getLinkRoughnessCoeff([2,4])\n",
    "print(roughness0)\n",
    "head0=G.getNodePressure([4])\n",
    "print(head0)\n",
    "\n",
    "index_pipe=2\n",
    "coff=88\n",
    "G.setLinkRoughnessCoeff(index_pipe,coff)\n",
    "coff1=G.getLinkRoughnessCoeff(index_pipe)\n",
    "print(coff1)"
   ]
  },
  {
   "cell_type": "code",
   "execution_count": 155,
   "id": "5d6558ba",
   "metadata": {},
   "outputs": [],
   "source": [
    "def eval_func(x):\n",
    "    x1 = decode(x,0)\n",
    "    x2 = decode(x,1)\n",
    "    if x1 > 100 or x2 > 100:\n",
    "        return 1000000\n",
    "\n",
    "    index_pipe2 = 2\n",
    "    index_pipe4 = 4\n",
    "    G.setLinkRoughnessCoeff(index_pipe2,x1)\n",
    "    G.setLinkRoughnessCoeff(index_pipe4,x2)\n",
    "\n",
    "    pmcs = G.getComputedHydraulicTimeSeries().Pressure\n",
    "    qmqs = G.getComputedHydraulicTimeSeries().Flow\n",
    "    fitness=(G.getNodePressure([4])-3.0)\n",
    "    return abs(fitness)"
   ]
  },
  {
   "cell_type": "code",
   "execution_count": 159,
   "id": "06d3e2c8",
   "metadata": {},
   "outputs": [],
   "source": [
    "for i in range(GroupAmount):\n",
    "    init(group[i])"
   ]
  },
  {
   "cell_type": "code",
   "execution_count": 153,
   "id": "48dad0ee",
   "metadata": {},
   "outputs": [],
   "source": [
    "def work(N):\n",
    "    print(\"第\",N,\"代开始迭代\")\n",
    "    print(group[0].Eval,\"  \",group[-1].Eval)\n",
    "    calculate_for_group()\n",
    "    pick_for_temp()\n",
    "    breed()\n",
    "    single_point_mutation()\n",
    "    calculate_for_temp()\n",
    "    print(group[0].Eval,\"  \",group[-1].Eval)\n",
    "    pick_for_group()\n",
    "    print(group[0].Eval,\"  \",group[-1].Eval)"
   ]
  },
  {
   "cell_type": "code",
   "execution_count": 156,
   "id": "39738b8f",
   "metadata": {
    "scrolled": true
   },
   "outputs": [
    {
     "name": "stdout",
     "output_type": "stream",
     "text": [
      "第 1 代开始迭代\n",
      "[0.29683286]    [0.29683286] \n",
      "\n",
      "\n",
      "[0.29683286]    [0.29683286] \n",
      "\n",
      "\n",
      "第 2 代开始迭代\n",
      "[0.29683286]    [0.29683286] \n",
      "\n",
      "\n",
      "[0.29683286]    [0.29683286] \n",
      "\n",
      "\n",
      "第 3 代开始迭代\n"
     ]
    },
    {
     "ename": "KeyboardInterrupt",
     "evalue": "",
     "output_type": "error",
     "traceback": [
      "\u001b[1;31m---------------------------------------------------------------------------\u001b[0m",
      "\u001b[1;31mKeyboardInterrupt\u001b[0m                         Traceback (most recent call last)",
      "\u001b[1;32m~\\AppData\\Local\\Temp\\ipykernel_3348\\2404021374.py\u001b[0m in \u001b[0;36m<module>\u001b[1;34m\u001b[0m\n\u001b[0;32m      2\u001b[0m \u001b[1;32mwhile\u001b[0m\u001b[1;33m(\u001b[0m\u001b[0mContinue\u001b[0m\u001b[1;33m(\u001b[0m\u001b[0mN\u001b[0m\u001b[1;33m)\u001b[0m\u001b[1;33m)\u001b[0m\u001b[1;33m:\u001b[0m\u001b[1;33m\u001b[0m\u001b[1;33m\u001b[0m\u001b[0m\n\u001b[0;32m      3\u001b[0m     \u001b[0mN\u001b[0m\u001b[1;33m+=\u001b[0m\u001b[1;36m1\u001b[0m\u001b[1;33m\u001b[0m\u001b[1;33m\u001b[0m\u001b[0m\n\u001b[1;32m----> 4\u001b[1;33m     \u001b[0mwork\u001b[0m\u001b[1;33m(\u001b[0m\u001b[0mN\u001b[0m\u001b[1;33m)\u001b[0m\u001b[1;33m\u001b[0m\u001b[1;33m\u001b[0m\u001b[0m\n\u001b[0m",
      "\u001b[1;32m~\\AppData\\Local\\Temp\\ipykernel_3348\\1154742570.py\u001b[0m in \u001b[0;36mwork\u001b[1;34m(N)\u001b[0m\n\u001b[0;32m      4\u001b[0m     \u001b[0mpick_for_temp\u001b[0m\u001b[1;33m(\u001b[0m\u001b[1;33m)\u001b[0m\u001b[1;33m\u001b[0m\u001b[1;33m\u001b[0m\u001b[0m\n\u001b[0;32m      5\u001b[0m     \u001b[0mbreed\u001b[0m\u001b[1;33m(\u001b[0m\u001b[1;33m)\u001b[0m\u001b[1;33m\u001b[0m\u001b[1;33m\u001b[0m\u001b[0m\n\u001b[1;32m----> 6\u001b[1;33m     \u001b[0msingle_point_mutation\u001b[0m\u001b[1;33m(\u001b[0m\u001b[1;33m)\u001b[0m\u001b[1;33m\u001b[0m\u001b[1;33m\u001b[0m\u001b[0m\n\u001b[0m\u001b[0;32m      7\u001b[0m     \u001b[0mcalculate_for_temp\u001b[0m\u001b[1;33m(\u001b[0m\u001b[1;33m)\u001b[0m\u001b[1;33m\u001b[0m\u001b[1;33m\u001b[0m\u001b[0m\n\u001b[0;32m      8\u001b[0m     \u001b[0mprint\u001b[0m\u001b[1;33m(\u001b[0m\u001b[0mgroup\u001b[0m\u001b[1;33m[\u001b[0m\u001b[1;36m0\u001b[0m\u001b[1;33m]\u001b[0m\u001b[1;33m.\u001b[0m\u001b[0mEval\u001b[0m\u001b[1;33m,\u001b[0m\u001b[1;34m\"  \"\u001b[0m\u001b[1;33m,\u001b[0m\u001b[0mgroup\u001b[0m\u001b[1;33m[\u001b[0m\u001b[1;33m-\u001b[0m\u001b[1;36m1\u001b[0m\u001b[1;33m]\u001b[0m\u001b[1;33m.\u001b[0m\u001b[0mEval\u001b[0m\u001b[1;33m,\u001b[0m\u001b[1;34m\"\\n\\n\"\u001b[0m\u001b[1;33m)\u001b[0m\u001b[1;33m\u001b[0m\u001b[1;33m\u001b[0m\u001b[0m\n",
      "\u001b[1;32m~\\AppData\\Local\\Temp\\ipykernel_3348\\1553608461.py\u001b[0m in \u001b[0;36msingle_point_mutation\u001b[1;34m()\u001b[0m\n\u001b[0;32m      5\u001b[0m             \u001b[0mx\u001b[0m \u001b[1;33m=\u001b[0m \u001b[0mrandom\u001b[0m\u001b[1;33m.\u001b[0m\u001b[0mrandint\u001b[0m\u001b[1;33m(\u001b[0m\u001b[1;36m0\u001b[0m\u001b[1;33m,\u001b[0m\u001b[1;36m999\u001b[0m\u001b[1;33m)\u001b[0m\u001b[1;33m\u001b[0m\u001b[1;33m\u001b[0m\u001b[0m\n\u001b[0;32m      6\u001b[0m             \u001b[1;32mif\u001b[0m \u001b[0mx\u001b[0m \u001b[1;33m<\u001b[0m \u001b[0mP_M\u001b[0m\u001b[1;33m:\u001b[0m\u001b[1;33m\u001b[0m\u001b[1;33m\u001b[0m\u001b[0m\n\u001b[1;32m----> 7\u001b[1;33m                 \u001b[0mtemp\u001b[0m\u001b[1;33m[\u001b[0m\u001b[0mi\u001b[0m\u001b[1;33m]\u001b[0m\u001b[1;33m.\u001b[0m\u001b[0mgen\u001b[0m\u001b[1;33m[\u001b[0m\u001b[0mj\u001b[0m\u001b[1;33m]\u001b[0m \u001b[1;33m=\u001b[0m \u001b[0mget_ipython\u001b[0m\u001b[1;33m(\u001b[0m\u001b[1;33m)\u001b[0m\u001b[1;33m.\u001b[0m\u001b[0mgetoutput\u001b[0m\u001b[1;33m(\u001b[0m\u001b[1;34m'temp[i].gen[j]'\u001b[0m\u001b[1;33m)\u001b[0m\u001b[1;33m\u001b[0m\u001b[1;33m\u001b[0m\u001b[0m\n\u001b[0m",
      "\u001b[1;32mD:\\Anaconda\\lib\\site-packages\\IPython\\core\\interactiveshell.py\u001b[0m in \u001b[0;36mgetoutput\u001b[1;34m(self, cmd, split, depth)\u001b[0m\n\u001b[0;32m   2587\u001b[0m             \u001b[1;31m# this is *far* from a rigorous test\u001b[0m\u001b[1;33m\u001b[0m\u001b[1;33m\u001b[0m\u001b[0m\n\u001b[0;32m   2588\u001b[0m             \u001b[1;32mraise\u001b[0m \u001b[0mOSError\u001b[0m\u001b[1;33m(\u001b[0m\u001b[1;34m\"Background processes not supported.\"\u001b[0m\u001b[1;33m)\u001b[0m\u001b[1;33m\u001b[0m\u001b[1;33m\u001b[0m\u001b[0m\n\u001b[1;32m-> 2589\u001b[1;33m         \u001b[0mout\u001b[0m \u001b[1;33m=\u001b[0m \u001b[0mgetoutput\u001b[0m\u001b[1;33m(\u001b[0m\u001b[0mself\u001b[0m\u001b[1;33m.\u001b[0m\u001b[0mvar_expand\u001b[0m\u001b[1;33m(\u001b[0m\u001b[0mcmd\u001b[0m\u001b[1;33m,\u001b[0m \u001b[0mdepth\u001b[0m\u001b[1;33m=\u001b[0m\u001b[0mdepth\u001b[0m\u001b[1;33m+\u001b[0m\u001b[1;36m1\u001b[0m\u001b[1;33m)\u001b[0m\u001b[1;33m)\u001b[0m\u001b[1;33m\u001b[0m\u001b[1;33m\u001b[0m\u001b[0m\n\u001b[0m\u001b[0;32m   2590\u001b[0m         \u001b[1;32mif\u001b[0m \u001b[0msplit\u001b[0m\u001b[1;33m:\u001b[0m\u001b[1;33m\u001b[0m\u001b[1;33m\u001b[0m\u001b[0m\n\u001b[0;32m   2591\u001b[0m             \u001b[0mout\u001b[0m \u001b[1;33m=\u001b[0m \u001b[0mSList\u001b[0m\u001b[1;33m(\u001b[0m\u001b[0mout\u001b[0m\u001b[1;33m.\u001b[0m\u001b[0msplitlines\u001b[0m\u001b[1;33m(\u001b[0m\u001b[1;33m)\u001b[0m\u001b[1;33m)\u001b[0m\u001b[1;33m\u001b[0m\u001b[1;33m\u001b[0m\u001b[0m\n",
      "\u001b[1;32mD:\\Anaconda\\lib\\site-packages\\IPython\\utils\\_process_win32.py\u001b[0m in \u001b[0;36mgetoutput\u001b[1;34m(cmd)\u001b[0m\n\u001b[0;32m    163\u001b[0m         \u001b[1;32mif\u001b[0m \u001b[0mpath\u001b[0m \u001b[1;32mis\u001b[0m \u001b[1;32mnot\u001b[0m \u001b[1;32mNone\u001b[0m\u001b[1;33m:\u001b[0m\u001b[1;33m\u001b[0m\u001b[1;33m\u001b[0m\u001b[0m\n\u001b[0;32m    164\u001b[0m             \u001b[0mcmd\u001b[0m \u001b[1;33m=\u001b[0m \u001b[1;34m'\"pushd %s &&\"%s'\u001b[0m \u001b[1;33m%\u001b[0m \u001b[1;33m(\u001b[0m\u001b[0mpath\u001b[0m\u001b[1;33m,\u001b[0m \u001b[0mcmd\u001b[0m\u001b[1;33m)\u001b[0m\u001b[1;33m\u001b[0m\u001b[1;33m\u001b[0m\u001b[0m\n\u001b[1;32m--> 165\u001b[1;33m         \u001b[0mout\u001b[0m \u001b[1;33m=\u001b[0m \u001b[0mprocess_handler\u001b[0m\u001b[1;33m(\u001b[0m\u001b[0mcmd\u001b[0m\u001b[1;33m,\u001b[0m \u001b[1;32mlambda\u001b[0m \u001b[0mp\u001b[0m\u001b[1;33m:\u001b[0m \u001b[0mp\u001b[0m\u001b[1;33m.\u001b[0m\u001b[0mcommunicate\u001b[0m\u001b[1;33m(\u001b[0m\u001b[1;33m)\u001b[0m\u001b[1;33m[\u001b[0m\u001b[1;36m0\u001b[0m\u001b[1;33m]\u001b[0m\u001b[1;33m,\u001b[0m \u001b[0mSTDOUT\u001b[0m\u001b[1;33m)\u001b[0m\u001b[1;33m\u001b[0m\u001b[1;33m\u001b[0m\u001b[0m\n\u001b[0m\u001b[0;32m    166\u001b[0m \u001b[1;33m\u001b[0m\u001b[0m\n\u001b[0;32m    167\u001b[0m     \u001b[1;32mif\u001b[0m \u001b[0mout\u001b[0m \u001b[1;32mis\u001b[0m \u001b[1;32mNone\u001b[0m\u001b[1;33m:\u001b[0m\u001b[1;33m\u001b[0m\u001b[1;33m\u001b[0m\u001b[0m\n",
      "\u001b[1;32mD:\\Anaconda\\lib\\site-packages\\IPython\\utils\\_process_common.py\u001b[0m in \u001b[0;36mprocess_handler\u001b[1;34m(cmd, callback, stderr)\u001b[0m\n\u001b[0;32m     77\u001b[0m     \u001b[1;32mif\u001b[0m \u001b[0mshell\u001b[0m \u001b[1;32mand\u001b[0m \u001b[0mos\u001b[0m\u001b[1;33m.\u001b[0m\u001b[0mname\u001b[0m \u001b[1;33m==\u001b[0m \u001b[1;34m'posix'\u001b[0m \u001b[1;32mand\u001b[0m \u001b[1;34m'SHELL'\u001b[0m \u001b[1;32min\u001b[0m \u001b[0mos\u001b[0m\u001b[1;33m.\u001b[0m\u001b[0menviron\u001b[0m\u001b[1;33m:\u001b[0m\u001b[1;33m\u001b[0m\u001b[1;33m\u001b[0m\u001b[0m\n\u001b[0;32m     78\u001b[0m         \u001b[0mexecutable\u001b[0m \u001b[1;33m=\u001b[0m \u001b[0mos\u001b[0m\u001b[1;33m.\u001b[0m\u001b[0menviron\u001b[0m\u001b[1;33m[\u001b[0m\u001b[1;34m'SHELL'\u001b[0m\u001b[1;33m]\u001b[0m\u001b[1;33m\u001b[0m\u001b[1;33m\u001b[0m\u001b[0m\n\u001b[1;32m---> 79\u001b[1;33m     p = subprocess.Popen(cmd, shell=shell,\n\u001b[0m\u001b[0;32m     80\u001b[0m                          \u001b[0mexecutable\u001b[0m\u001b[1;33m=\u001b[0m\u001b[0mexecutable\u001b[0m\u001b[1;33m,\u001b[0m\u001b[1;33m\u001b[0m\u001b[1;33m\u001b[0m\u001b[0m\n\u001b[0;32m     81\u001b[0m                          \u001b[0mstdin\u001b[0m\u001b[1;33m=\u001b[0m\u001b[0msubprocess\u001b[0m\u001b[1;33m.\u001b[0m\u001b[0mPIPE\u001b[0m\u001b[1;33m,\u001b[0m\u001b[1;33m\u001b[0m\u001b[1;33m\u001b[0m\u001b[0m\n",
      "\u001b[1;32mD:\\Anaconda\\lib\\subprocess.py\u001b[0m in \u001b[0;36m__init__\u001b[1;34m(self, args, bufsize, executable, stdin, stdout, stderr, preexec_fn, close_fds, shell, cwd, env, universal_newlines, startupinfo, creationflags, restore_signals, start_new_session, pass_fds, user, group, extra_groups, encoding, errors, text, umask)\u001b[0m\n\u001b[0;32m    949\u001b[0m                             encoding=encoding, errors=errors)\n\u001b[0;32m    950\u001b[0m \u001b[1;33m\u001b[0m\u001b[0m\n\u001b[1;32m--> 951\u001b[1;33m             self._execute_child(args, executable, preexec_fn, close_fds,\n\u001b[0m\u001b[0;32m    952\u001b[0m                                 \u001b[0mpass_fds\u001b[0m\u001b[1;33m,\u001b[0m \u001b[0mcwd\u001b[0m\u001b[1;33m,\u001b[0m \u001b[0menv\u001b[0m\u001b[1;33m,\u001b[0m\u001b[1;33m\u001b[0m\u001b[1;33m\u001b[0m\u001b[0m\n\u001b[0;32m    953\u001b[0m                                 \u001b[0mstartupinfo\u001b[0m\u001b[1;33m,\u001b[0m \u001b[0mcreationflags\u001b[0m\u001b[1;33m,\u001b[0m \u001b[0mshell\u001b[0m\u001b[1;33m,\u001b[0m\u001b[1;33m\u001b[0m\u001b[1;33m\u001b[0m\u001b[0m\n",
      "\u001b[1;32mD:\\Anaconda\\lib\\subprocess.py\u001b[0m in \u001b[0;36m_execute_child\u001b[1;34m(self, args, executable, preexec_fn, close_fds, pass_fds, cwd, env, startupinfo, creationflags, shell, p2cread, p2cwrite, c2pread, c2pwrite, errread, errwrite, unused_restore_signals, unused_gid, unused_gids, unused_uid, unused_umask, unused_start_new_session)\u001b[0m\n\u001b[0;32m   1418\u001b[0m             \u001b[1;31m# Start the process\u001b[0m\u001b[1;33m\u001b[0m\u001b[1;33m\u001b[0m\u001b[0m\n\u001b[0;32m   1419\u001b[0m             \u001b[1;32mtry\u001b[0m\u001b[1;33m:\u001b[0m\u001b[1;33m\u001b[0m\u001b[1;33m\u001b[0m\u001b[0m\n\u001b[1;32m-> 1420\u001b[1;33m                 hp, ht, pid, tid = _winapi.CreateProcess(executable, args,\n\u001b[0m\u001b[0;32m   1421\u001b[0m                                          \u001b[1;31m# no special security\u001b[0m\u001b[1;33m\u001b[0m\u001b[1;33m\u001b[0m\u001b[0m\n\u001b[0;32m   1422\u001b[0m                                          \u001b[1;32mNone\u001b[0m\u001b[1;33m,\u001b[0m \u001b[1;32mNone\u001b[0m\u001b[1;33m,\u001b[0m\u001b[1;33m\u001b[0m\u001b[1;33m\u001b[0m\u001b[0m\n",
      "\u001b[1;31mKeyboardInterrupt\u001b[0m: "
     ]
    }
   ],
   "source": [
    "N=0\n",
    "while(Continue(N)):\n",
    "    N+=1\n",
    "    work(N)"
   ]
  },
  {
   "cell_type": "code",
   "execution_count": 162,
   "id": "ae35da07",
   "metadata": {},
   "outputs": [
    {
     "data": {
      "text/plain": [
       "array([False,  True,  True,  True,  True,  True, False,  True, False,\n",
       "        True,  True,  True,  True,  True, False,  True, False,  True,\n",
       "        True, False,  True,  True,  True, False,  True, False, False,\n",
       "       False,  True,  True])"
      ]
     },
     "execution_count": 162,
     "metadata": {},
     "output_type": "execute_result"
    }
   ],
   "source": [
    "group[0].gen"
   ]
  },
  {
   "cell_type": "code",
   "execution_count": 5,
   "id": "064cb033",
   "metadata": {},
   "outputs": [
    {
     "ename": "TabError",
     "evalue": "inconsistent use of tabs and spaces in indentation (3228564415.py, line 159)",
     "output_type": "error",
     "traceback": [
      "\u001b[1;36m  Cell \u001b[1;32mIn[5], line 159\u001b[1;36m\u001b[0m\n\u001b[1;33m    G.setNodeSourceType(name2index[str(i+1)],'SETPOINT')\u001b[0m\n\u001b[1;37m    ^\u001b[0m\n\u001b[1;31mTabError\u001b[0m\u001b[1;31m:\u001b[0m inconsistent use of tabs and spaces in indentation\n"
     ]
    }
   ],
   "source": []
  }
 ],
 "metadata": {
  "kernelspec": {
   "display_name": "Python 3 (ipykernel)",
   "language": "python",
   "name": "python3"
  },
  "language_info": {
   "codemirror_mode": {
    "name": "ipython",
    "version": 3
   },
   "file_extension": ".py",
   "mimetype": "text/x-python",
   "name": "python",
   "nbconvert_exporter": "python",
   "pygments_lexer": "ipython3",
   "version": "3.10.13"
  }
 },
 "nbformat": 4,
 "nbformat_minor": 5
}
